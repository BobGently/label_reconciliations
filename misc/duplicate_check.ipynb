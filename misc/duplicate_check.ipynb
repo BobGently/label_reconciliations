{
 "cells": [
  {
   "cell_type": "code",
   "execution_count": 8,
   "metadata": {},
   "outputs": [],
   "source": [
    "from os.path import join\n",
    "from itertools import combinations\n",
    "import pandas as pd"
   ]
  },
  {
   "cell_type": "code",
   "execution_count": 25,
   "metadata": {
    "collapsed": true
   },
   "outputs": [],
   "source": [
    "BASE_PATH = join('..', 'nfn1')\n",
    "\n",
    "datasets = {\n",
    "    'brit': 1, \n",
    "    'fsu': 1, \n",
    "    'herbarium2': 1, \n",
    "    'selu': 1, \n",
    "    'usam': 1, \n",
    "    'usf': 1, \n",
    "    'valdosta': 1}"
   ]
  },
  {
   "cell_type": "code",
   "execution_count": 27,
   "metadata": {},
   "outputs": [],
   "source": [
    "for dataset in datasets.keys():\n",
    "    path = join(BASE_PATH, dataset, '{}_reconciled.csv'.format(dataset))\n",
    "    datasets[dataset] = pd.read_csv(path)"
   ]
  },
  {
   "cell_type": "code",
   "execution_count": 28,
   "metadata": {},
   "outputs": [
    {
     "name": "stdout",
     "output_type": "stream",
     "text": [
      "('brit', 'fsu') 0\n",
      "('brit', 'herbarium2') 0\n",
      "('brit', 'selu') 0\n",
      "('brit', 'usam') 0\n",
      "('brit', 'usf') 0\n",
      "('brit', 'valdosta') 0\n",
      "('fsu', 'herbarium2') 0\n",
      "('fsu', 'selu') 0\n",
      "('fsu', 'usam') 0\n",
      "('fsu', 'usf') 0\n",
      "('fsu', 'valdosta') 0\n",
      "('herbarium2', 'selu') 0\n",
      "('herbarium2', 'usam') 0\n",
      "('herbarium2', 'usf') 0\n",
      "('herbarium2', 'valdosta') 0\n",
      "('selu', 'usam') 0\n",
      "('selu', 'usf') 0\n",
      "('selu', 'valdosta') 0\n",
      "('usam', 'usf') 0\n",
      "('usam', 'valdosta') 0\n",
      "('usf', 'valdosta') 0\n"
     ]
    }
   ],
   "source": [
    "for combo in combinations(sorted(datasets.keys()), 2):\n",
    "    df = pd.concat([datasets[combo[0]], datasets[combo[1]]])\n",
    "    grouped = df.groupby('occurrenceID').size().loc[lambda x : x != 1]\n",
    "    print(combo, len(grouped))"
   ]
  },
  {
   "cell_type": "code",
   "execution_count": null,
   "metadata": {
    "collapsed": true
   },
   "outputs": [],
   "source": []
  }
 ],
 "metadata": {
  "kernelspec": {
   "display_name": "Python 3",
   "language": "python",
   "name": "python3"
  },
  "language_info": {
   "codemirror_mode": {
    "name": "ipython",
    "version": 3
   },
   "file_extension": ".py",
   "mimetype": "text/x-python",
   "name": "python",
   "nbconvert_exporter": "python",
   "pygments_lexer": "ipython3",
   "version": "3.5.3"
  }
 },
 "nbformat": 4,
 "nbformat_minor": 2
}
