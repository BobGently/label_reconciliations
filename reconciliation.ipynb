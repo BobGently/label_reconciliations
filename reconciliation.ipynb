{
 "cells": [
  {
   "cell_type": "markdown",
   "metadata": {},
   "source": [
    "# Reconciliation of multiple transcripts from museum labels"
   ]
  },
  {
   "cell_type": "markdown",
   "metadata": {},
   "source": [
    "* Code for drop down menu reconciliation"
   ]
  },
  {
   "cell_type": "code",
   "execution_count": 182,
   "metadata": {
    "collapsed": true
   },
   "outputs": [],
   "source": [
    "%matplotlib inline\n",
    "import pandas as pd\n",
    "import csv\n",
    "import matplotlib.pyplot as plt\n",
    "from collections import Counter\n",
    "from pprint import pprint\n",
    "from dateutil import parser"
   ]
  },
  {
   "cell_type": "markdown",
   "metadata": {},
   "source": [
    "- Function that reads in transcription data and makes a dictionary of lists, key is the subject (museum label code) value is the row of data associated with that label.  Each new row of data associated with the same subject is appended to the same key."
   ]
  },
  {
   "cell_type": "code",
   "execution_count": 134,
   "metadata": {
    "collapsed": true
   },
   "outputs": [],
   "source": [
    "def read_clean_data(file_name):\n",
    "    data = {}\n",
    "    with open(file_name, 'r') as in_file:\n",
    "        reader = csv.DictReader(in_file)\n",
    "        headers = reader.fieldnames\n",
    "        for row in reader:\n",
    "            key = row['filename']\n",
    "            #print(key)\n",
    "            xscripts = data.get(key, [])\n",
    "            xscripts.append(row)\n",
    "            data[key] = xscripts\n",
    "            #if reader.line_num >10: \n",
    "            #    break\n",
    "        print(reader.line_num)\n",
    "    return data, headers"
   ]
  },
  {
   "cell_type": "code",
   "execution_count": 135,
   "metadata": {
    "collapsed": false
   },
   "outputs": [
    {
     "name": "stdout",
     "output_type": "stream",
     "text": [
      "6548\n",
      "3150\n"
     ]
    }
   ],
   "source": [
    "data,headers = read_clean_data('BritHerbaraiDataset.StutterRemoved.csv')\n",
    "#pprint(data)\n",
    "print(len(data))"
   ]
  },
  {
   "cell_type": "markdown",
   "metadata": {},
   "source": [
    "- Function to count the number of transcripts for each subject. Reads as in for key in value get the length of the value."
   ]
  },
  {
   "cell_type": "code",
   "execution_count": 86,
   "metadata": {
    "collapsed": true
   },
   "outputs": [],
   "source": [
    "def count_transcripts(data):\n",
    "    return Counter([len(v) for k, v in data.items()])"
   ]
  },
  {
   "cell_type": "code",
   "execution_count": 87,
   "metadata": {
    "collapsed": false
   },
   "outputs": [
    {
     "name": "stdout",
     "output_type": "stream",
     "text": [
      "Counter({1: 1174, 2: 945, 3: 645, 4: 384, 6: 2})\n"
     ]
    }
   ],
   "source": [
    "cc = count_transcripts(data)\n",
    "pprint(cc)"
   ]
  },
  {
   "cell_type": "markdown",
   "metadata": {},
   "source": [
    "- Function to get all the flags for the drop down reconciliations. First, count blanks for each subject and remove them. Blanks also include those that say 'placeholder'. These are likely fields that were skipped and not returned to. We do not count 'unknown' as a blank. Rather 'unknown' could be the product of a country name that is unreadable, or does not exist anymore. The difference of the number of transcriptions minus the blanks removed gives us our count of blank cells printed in the final CSV file. \n",
    "- Second we define five situations for the transcriptions 1. 'all agree' meaning there is more than one transcript and all the answers are identical. 2. 'majority rules' meaning that there is more than one transcript and one answer is given more times than any other. 3. 'only a single transcript' meaning there is only a single transcript. 4. 'more than one unique answer' meaning that there are more than one answer with the highest frequency. 5. 'all are blank' meaning that there were no answers given for any transcript. "
   ]
  },
  {
   "cell_type": "code",
   "execution_count": 141,
   "metadata": {
    "collapsed": false
   },
   "outputs": [],
   "source": [
    "FLAGS = ['all agree', 'Majority Rules','only a single transcript','more than 1 unique answer','all are blank']\n",
    "\n",
    "def drop_down_reconciliation(col):\n",
    "    flags={}\n",
    "    for key, xscripts in data.items():\n",
    "        counts = Counter([x[col] for x in xscripts if x[col] and x[col].lower() != 'placeholder'])\n",
    "        if not len(counts):\n",
    "            flags[key] = dict(flag=FLAGS[4], value='', top_count=0, blank_count=len(xscripts))\n",
    "        elif len(counts) > 1:\n",
    "            top = counts.most_common(1)[0]\n",
    "            cc = Counter([v for k, v in counts.items()])\n",
    "            ii = 0\n",
    "            for v in counts.values():\n",
    "                ii += v\n",
    "            if cc[top[1]] == 1:\n",
    "                flags[key] = dict(flag=FLAGS[1], value=top[0], top_count=top[1], blank_count=len(xscripts) - ii)\n",
    "            else:\n",
    "                flags[key] = dict(flag=FLAGS[3], value=[k for k,v in counts.items() if v == top[1]], \n",
    "                                    top_count=top[1], blank_count=len(xscripts) - ii)\n",
    "        elif len(xscripts) == 1:\n",
    "            top = counts.most_common(1)[0]\n",
    "            flags[key] = dict(flag=FLAGS[2], value=top[0], top_count=top[1], blank_count=len(xscripts) -1)\n",
    "        elif len(xscripts) > 1 and len(counts) == 1:\n",
    "            top = counts.most_common(1)[0]\n",
    "            flags[key] = dict(flag=FLAGS[0], value=top[0], top_count=top[1], blank_count=len(xscripts) - top[1])\n",
    "        else:\n",
    "            pprint(xscripts)\n",
    "    return flags\n",
    "    "
   ]
  },
  {
   "cell_type": "markdown",
   "metadata": {},
   "source": [
    "- Function for parsing the date field. Dates are read as two digit day, two digit month and four digit years. All zeros in any category means that there was no date given, essentially we treat it as a blank. We will parse the date fields, determine which are blanks and add flags to those. "
   ]
  },
  {
   "cell_type": "code",
   "execution_count": 199,
   "metadata": {
    "collapsed": true
   },
   "outputs": [],
   "source": [
    "def date_parser(value):\n",
    "    parts = value.split('/')\n",
    "    pprint(parts)\n",
    "    try:\n",
    "        flag = 'ok'\n",
    "        dt = parser.parse(value, fuzzy=True)\n",
    "    except ValueError:\n",
    "        flag = 'error'\n",
    "        dt = ''\n",
    "    return dt.isoformat(), flag\n",
    "        "
   ]
  },
  {
   "cell_type": "code",
   "execution_count": 200,
   "metadata": {
    "collapsed": false
   },
   "outputs": [
    {
     "name": "stdout",
     "output_type": "stream",
     "text": [
      "['']\n",
      "('2016-05-04T00:00:00', 'ok')\n",
      "['3', '8', '1922']\n",
      "('1922-03-08T00:00:00', 'ok')\n",
      "['3', '8', '0000']\n",
      "('2000-03-08T00:00:00', 'ok')\n"
     ]
    }
   ],
   "source": [
    "pprint(date_parser(''))\n",
    "pprint(date_parser('3/8/1922'))\n",
    "pprint(date_parser('3/8/0000'))"
   ]
  },
  {
   "cell_type": "markdown",
   "metadata": {},
   "source": [
    "- function to count the flags and print results"
   ]
  },
  {
   "cell_type": "code",
   "execution_count": 143,
   "metadata": {
    "collapsed": false
   },
   "outputs": [],
   "source": [
    "def count_result(flags):\n",
    "    counts = Counter([f['flag'] for k, f in flags.items()])\n",
    "    total = 0\n",
    "    for f, c in counts.items():\n",
    "        total += c\n",
    "        print('{} = {}'.format(f, c))\n",
    "    print('Total = {}'.format(total))"
   ]
  },
  {
   "cell_type": "code",
   "execution_count": 136,
   "metadata": {
    "collapsed": true
   },
   "outputs": [],
   "source": [
    "out_dict = {k: {} for k in data.keys() }"
   ]
  },
  {
   "cell_type": "code",
   "execution_count": 177,
   "metadata": {
    "collapsed": false
   },
   "outputs": [],
   "source": [
    "def add_reconciled_data(field_name, flags):\n",
    "    for k, f in flags.items():\n",
    "        out_dict[k][field_name] = f['value']\n",
    "        out_dict[k][field_name +'_flags'] = f['flag']\n",
    "        out_dict[k][field_name +'_frequency'] = f['top_count']\n",
    "        out_dict[k][field_name +'_blanks'] = f['blank_count']"
   ]
  },
  {
   "cell_type": "code",
   "execution_count": 3,
   "metadata": {
    "collapsed": false
   },
   "outputs": [
    {
     "ename": "NameError",
     "evalue": "name 'drop_down_reconciliation' is not defined",
     "output_type": "error",
     "traceback": [
      "\u001b[0;31m---------------------------------------------------------------------------\u001b[0m",
      "\u001b[0;31mNameError\u001b[0m                                 Traceback (most recent call last)",
      "\u001b[0;32m<ipython-input-3-7ca71c8b61be>\u001b[0m in \u001b[0;36m<module>\u001b[0;34m()\u001b[0m\n\u001b[0;32m----> 1\u001b[0;31m \u001b[0mflags\u001b[0m \u001b[0;34m=\u001b[0m \u001b[0mdrop_down_reconciliation\u001b[0m\u001b[0;34m(\u001b[0m\u001b[0;34m'Country'\u001b[0m\u001b[0;34m)\u001b[0m\u001b[0;34m\u001b[0m\u001b[0m\n\u001b[0m\u001b[1;32m      2\u001b[0m \u001b[0madd_reconciled_data\u001b[0m\u001b[0;34m(\u001b[0m\u001b[0;34m'Country'\u001b[0m\u001b[0;34m,\u001b[0m \u001b[0mflags\u001b[0m\u001b[0;34m)\u001b[0m\u001b[0;34m\u001b[0m\u001b[0m\n\u001b[1;32m      3\u001b[0m \u001b[0mcount_result\u001b[0m\u001b[0;34m(\u001b[0m\u001b[0mflags\u001b[0m\u001b[0;34m)\u001b[0m\u001b[0;34m\u001b[0m\u001b[0m\n\u001b[1;32m      4\u001b[0m \u001b[0mflags\u001b[0m \u001b[0;34m=\u001b[0m \u001b[0mdrop_down_reconciliation\u001b[0m\u001b[0;34m(\u001b[0m\u001b[0;34m'County'\u001b[0m\u001b[0;34m)\u001b[0m\u001b[0;34m\u001b[0m\u001b[0m\n\u001b[1;32m      5\u001b[0m \u001b[0madd_reconciled_data\u001b[0m\u001b[0;34m(\u001b[0m\u001b[0;34m'County'\u001b[0m\u001b[0;34m,\u001b[0m \u001b[0mflags\u001b[0m\u001b[0;34m)\u001b[0m\u001b[0;34m\u001b[0m\u001b[0m\n",
      "\u001b[0;31mNameError\u001b[0m: name 'drop_down_reconciliation' is not defined"
     ]
    }
   ],
   "source": [
    "flags = drop_down_reconciliation('Country')\n",
    "add_reconciled_data('Country', flags)\n",
    "count_result(flags)\n",
    "flags = drop_down_reconciliation('County')\n",
    "add_reconciled_data('County', flags)\n",
    "count_result(flags)\n",
    "flags = drop_down_reconciliation('State')\n",
    "add_reconciled_data('State', flags)\n",
    "count_result(flags)"
   ]
  },
  {
   "cell_type": "code",
   "execution_count": 1,
   "metadata": {
    "collapsed": false,
    "scrolled": true
   },
   "outputs": [],
   "source": [
    "#pprint(out_dict)\n"
   ]
  },
  {
   "cell_type": "code",
   "execution_count": 133,
   "metadata": {
    "collapsed": true
   },
   "outputs": [
    {
     "name": "stdout",
     "output_type": "stream",
     "text": [
      "Majority Rules = 20\n",
      "all agree = 1923\n",
      "only a single transcript = 1094\n",
      "more than 1 unique answer = 21\n",
      "all are blank = 92\n",
      "Total = 3150\n",
      "None\n"
     ]
    }
   ],
   "source": [
    "flags = drop_down_reconciliation('County')\n",
    "results = count_result(flags)\n",
    "pprint(results)"
   ]
  },
  {
   "cell_type": "code",
   "execution_count": 173,
   "metadata": {
    "collapsed": true
   },
   "outputs": [],
   "source": [
    "def write_reconciled_csv(out_dict, file_name):\n",
    "    headers = list(list(out_dict.values())[0].keys())\n",
    "    with open(file_name, 'w') as out_file:\n",
    "        writer = csv.DictWriter(out_file,headers)\n",
    "        writer.writeheader()\n",
    "        for subject_id, row in out_dict.items():\n",
    "            row['subject_id'] = subject_id\n",
    "            writer.writerow(row)\n",
    "    pprint(headers)\n",
    "        "
   ]
  },
  {
   "cell_type": "code",
   "execution_count": 181,
   "metadata": {
    "collapsed": false
   },
   "outputs": [
    {
     "name": "stdout",
     "output_type": "stream",
     "text": [
      "['State_frequency',\n",
      " 'Country_flags',\n",
      " 'Country_frequency',\n",
      " 'Country_blanks',\n",
      " 'County_frequency',\n",
      " 'State_flags',\n",
      " 'County_blanks',\n",
      " 'State_blanks',\n",
      " 'subject_id',\n",
      " 'Country',\n",
      " 'County_flags',\n",
      " 'County',\n",
      " 'State',\n",
      " 'Country_flag']\n"
     ]
    }
   ],
   "source": [
    "write_reconciled_csv(out_dict, 'Brit_Reconciled.csv')"
   ]
  },
  {
   "cell_type": "code",
   "execution_count": null,
   "metadata": {
    "collapsed": true
   },
   "outputs": [],
   "source": []
  }
 ],
 "metadata": {
  "kernelspec": {
   "display_name": "Python 3",
   "language": "python",
   "name": "python3"
  },
  "language_info": {
   "codemirror_mode": {
    "name": "ipython",
    "version": 3
   },
   "file_extension": ".py",
   "mimetype": "text/x-python",
   "name": "python",
   "nbconvert_exporter": "python",
   "pygments_lexer": "ipython3",
   "version": "3.5.1"
  }
 },
 "nbformat": 4,
 "nbformat_minor": 0
}
