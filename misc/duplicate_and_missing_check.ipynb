{
 "cells": [
  {
   "cell_type": "code",
   "execution_count": 1,
   "metadata": {
    "collapsed": true
   },
   "outputs": [],
   "source": [
    "from os.path import join\n",
    "from itertools import combinations\n",
    "import pandas as pd"
   ]
  },
  {
   "cell_type": "markdown",
   "metadata": {},
   "source": [
    "## List the datasets"
   ]
  },
  {
   "cell_type": "code",
   "execution_count": 2,
   "metadata": {
    "collapsed": true
   },
   "outputs": [],
   "source": [
    "BASE_PATH = join('..', 'nfn1')\n",
    "\n",
    "datasets = {\n",
    "    'brit': 1, \n",
    "    'fsu': 1, \n",
    "    'herbarium2': 1, \n",
    "    'selu': 1, \n",
    "    'usam': 1, \n",
    "    'usf': 1, \n",
    "    'valdosta': 1}"
   ]
  },
  {
   "cell_type": "markdown",
   "metadata": {},
   "source": [
    "## Read in all of the small datasets"
   ]
  },
  {
   "cell_type": "code",
   "execution_count": 3,
   "metadata": {
    "collapsed": true
   },
   "outputs": [],
   "source": [
    "for dataset in datasets.keys():\n",
    "    path = join(BASE_PATH, dataset, '{}_reconciled.csv'.format(dataset))\n",
    "    datasets[dataset] = pd.read_csv(path)"
   ]
  },
  {
   "cell_type": "markdown",
   "metadata": {},
   "source": [
    "## Look for duplicates between datasets"
   ]
  },
  {
   "cell_type": "code",
   "execution_count": 4,
   "metadata": {},
   "outputs": [
    {
     "name": "stdout",
     "output_type": "stream",
     "text": [
      "('brit', 'fsu') 0\n",
      "('brit', 'herbarium2') 0\n",
      "('brit', 'selu') 0\n",
      "('brit', 'usam') 0\n",
      "('brit', 'usf') 0\n",
      "('brit', 'valdosta') 0\n",
      "('fsu', 'herbarium2') 0\n",
      "('fsu', 'selu') 0\n",
      "('fsu', 'usam') 0\n",
      "('fsu', 'usf') 0\n",
      "('fsu', 'valdosta') 0\n",
      "('herbarium2', 'selu') 0\n",
      "('herbarium2', 'usam') 0\n",
      "('herbarium2', 'usf') 0\n",
      "('herbarium2', 'valdosta') 0\n",
      "('selu', 'usam') 0\n",
      "('selu', 'usf') 0\n",
      "('selu', 'valdosta') 0\n",
      "('usam', 'usf') 0\n",
      "('usam', 'valdosta') 0\n",
      "('usf', 'valdosta') 0\n"
     ]
    }
   ],
   "source": [
    "for combo in combinations(sorted(datasets.keys()), 2):\n",
    "    df = pd.concat([datasets[combo[0]], datasets[combo[1]]])\n",
    "    grouped = df.groupby('occurrenceID').size().loc[lambda x : x != 1]\n",
    "    print(combo, len(grouped))"
   ]
  },
  {
   "cell_type": "markdown",
   "metadata": {
    "collapsed": true
   },
   "source": [
    "## Read in original combined data treated as one dataset"
   ]
  },
  {
   "cell_type": "code",
   "execution_count": 5,
   "metadata": {
    "collapsed": true
   },
   "outputs": [],
   "source": [
    "for dataset in ['all']:\n",
    "    path = join(BASE_PATH, dataset, '{}_reconciled.csv'.format(dataset))\n",
    "    datasets[dataset] = pd.read_csv(path)"
   ]
  },
  {
   "cell_type": "markdown",
   "metadata": {},
   "source": [
    "## Look for missing occurrenceIDs"
   ]
  },
  {
   "cell_type": "code",
   "execution_count": null,
   "metadata": {
    "collapsed": true
   },
   "outputs": [],
   "source": [
    "df = pd.concat([v for k, v in datasets.items()])"
   ]
  },
  {
   "cell_type": "code",
   "execution_count": 84,
   "metadata": {},
   "outputs": [
    {
     "data": {
      "text/plain": [
       "array([2, 2, 2, ..., 2, 2, 2])"
      ]
     },
     "execution_count": 84,
     "metadata": {},
     "output_type": "execute_result"
    }
   ],
   "source": [
    "# grouped = df.groupby('occurrenceID').size().loc[lambda x : x != 2].index.values\n",
    "grouped = df.groupby('occurrenceID').size().values\n",
    "grouped"
   ]
  },
  {
   "cell_type": "code",
   "execution_count": 85,
   "metadata": {},
   "outputs": [],
   "source": [
    "missing = df.loc[grouped != 2]"
   ]
  },
  {
   "cell_type": "code",
   "execution_count": 86,
   "metadata": {},
   "outputs": [
    {
     "data": {
      "text/plain": [
       "3254"
      ]
     },
     "execution_count": 86,
     "metadata": {},
     "output_type": "execute_result"
    }
   ],
   "source": [
    "len(missing)"
   ]
  },
  {
   "cell_type": "code",
   "execution_count": 88,
   "metadata": {},
   "outputs": [],
   "source": [
    "path = join(BASE_PATH, 'missing.csv')\n",
    "missing.to_csv(path)"
   ]
  },
  {
   "cell_type": "code",
   "execution_count": null,
   "metadata": {
    "collapsed": true
   },
   "outputs": [],
   "source": []
  }
 ],
 "metadata": {
  "kernelspec": {
   "display_name": "Python 3",
   "language": "python",
   "name": "python3"
  },
  "language_info": {
   "codemirror_mode": {
    "name": "ipython",
    "version": 3
   },
   "file_extension": ".py",
   "mimetype": "text/x-python",
   "name": "python",
   "nbconvert_exporter": "python",
   "pygments_lexer": "ipython3",
   "version": "3.5.3"
  }
 },
 "nbformat": 4,
 "nbformat_minor": 2
}
