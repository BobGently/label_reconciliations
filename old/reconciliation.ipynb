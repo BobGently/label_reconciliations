{
 "cells": [
  {
   "cell_type": "markdown",
   "metadata": {},
   "source": [
    "# Reconciliation of multiple transcripts from museum labels"
   ]
  },
  {
   "cell_type": "markdown",
   "metadata": {},
   "source": [
    "* Code for drop down menu reconciliation"
   ]
  },
  {
   "cell_type": "code",
   "execution_count": 39,
   "metadata": {
    "collapsed": true
   },
   "outputs": [],
   "source": [
    "%matplotlib inline\n",
    "import pandas as pd\n",
    "import csv\n",
    "import matplotlib.pyplot as plt\n",
    "from collections import Counter\n",
    "from pprint import pprint\n",
    "from dateutil import parser\n",
    "import re"
   ]
  },
  {
   "cell_type": "markdown",
   "metadata": {},
   "source": [
    "- Function that reads in transcription data and makes a dictionary of lists, key is the subject (museum label code) value is the row of data associated with that label.  Each new row of data associated with the same subject is appended to the same key."
   ]
  },
  {
   "cell_type": "code",
   "execution_count": 14,
   "metadata": {
    "collapsed": true
   },
   "outputs": [],
   "source": [
    "def read_clean_data(file_name):\n",
    "    data = {}\n",
    "    with open(file_name, 'r') as in_file:\n",
    "        reader = csv.DictReader(in_file)\n",
    "        headers = reader.fieldnames\n",
    "        for row in reader:\n",
    "            key = row['filename']\n",
    "            #print(key)\n",
    "            xscripts = data.get(key, [])\n",
    "            xscripts.append(row)\n",
    "            data[key] = xscripts\n",
    "            #if reader.line_num >10: \n",
    "            #    break\n",
    "        print(reader.line_num)\n",
    "    return data, headers"
   ]
  },
  {
   "cell_type": "code",
   "execution_count": 15,
   "metadata": {
    "collapsed": false
   },
   "outputs": [
    {
     "name": "stdout",
     "output_type": "stream",
     "text": [
      "4\n",
      "1\n"
     ]
    }
   ],
   "source": [
    "data,headers = read_clean_data('BritHerbaraiDataset.StutterRemoved.csv')\n",
    "#pprint(data)\n",
    "print(len(data))"
   ]
  },
  {
   "cell_type": "markdown",
   "metadata": {},
   "source": [
    "- Function to count the number of transcripts for each subject. Reads as in for key in value get the length of the value."
   ]
  },
  {
   "cell_type": "code",
   "execution_count": 43,
   "metadata": {
    "collapsed": true
   },
   "outputs": [],
   "source": [
    "def count_transcripts(data):\n",
    "    return Counter([len(v) for k, v in data.items()])"
   ]
  },
  {
   "cell_type": "code",
   "execution_count": 44,
   "metadata": {
    "collapsed": false
   },
   "outputs": [
    {
     "name": "stdout",
     "output_type": "stream",
     "text": [
      "Counter({1: 1174, 2: 945, 3: 645, 4: 384, 6: 2})\n"
     ]
    }
   ],
   "source": [
    "cc = count_transcripts(data)\n",
    "pprint(cc)"
   ]
  },
  {
   "cell_type": "markdown",
   "metadata": {},
   "source": [
    "- Function to get all the flags for the drop down reconciliations. First, count blanks for each subject and remove them. Blanks also include those that say 'placeholder'. These are likely fields that were skipped and not returned to. We do not count 'unknown' as a blank. Rather 'unknown' could be the product of a country name that is unreadable, or does not exist anymore. The difference of the number of transcriptions minus the blanks removed gives us our count of blank cells printed in the final CSV file. \n",
    "- Second we define five situations for the transcriptions 1. 'all agree' meaning there is more than one transcript and all the answers are identical. 2. 'majority rules' meaning that there are at last three  transcripts and one answer is given more times than any other. 3. 'only a single transcript' meaning there is only a single transcript therefore no comparison were made and the only answer given was taken. 4. 'more than one unique answer' meaning that there are more than one answer with the highest frequency. 5. 'all are blank' meaning that there were no answers given for any transcript. "
   ]
  },
  {
   "cell_type": "code",
   "execution_count": 45,
   "metadata": {
    "collapsed": false
   },
   "outputs": [],
   "source": [
    "FLAGS = ['all agree', 'Majority Rules','only a single transcript','more than 1 unique answer','all are blank']\n",
    "\n",
    "def drop_down_reconciliation(col):\n",
    "    flags={}\n",
    "    for key, xscripts in data.items():\n",
    "        counts = Counter([x[col] for x in xscripts if x[col] and x[col].lower() != 'placeholder'])\n",
    "        if not len(counts):\n",
    "            flags[key] = dict(flag=FLAGS[4], value='', top_count=0, blank_count=len(xscripts))\n",
    "        elif len(counts) > 1:\n",
    "            top = counts.most_common(1)[0]\n",
    "            cc = Counter([v for k, v in counts.items()])\n",
    "            ii = 0\n",
    "            for v in counts.values():\n",
    "                ii += v\n",
    "            if cc[top[1]] == 1:\n",
    "                flags[key] = dict(flag=FLAGS[1], value=top[0], top_count=top[1], blank_count=len(xscripts) - ii)\n",
    "            else:\n",
    "                flags[key] = dict(flag=FLAGS[3], value=[k for k,v in counts.items() if v == top[1]], \n",
    "                                    top_count=top[1], blank_count=len(xscripts) - ii)\n",
    "        elif len(xscripts) == 1:\n",
    "            top = counts.most_common(1)[0]\n",
    "            flags[key] = dict(flag=FLAGS[2], value=top[0], top_count=top[1], blank_count=len(xscripts) -1)\n",
    "        elif len(xscripts) > 1 and len(counts) == 1:\n",
    "            top = counts.most_common(1)[0]\n",
    "            flags[key] = dict(flag=FLAGS[0], value=top[0], top_count=top[1], blank_count=len(xscripts) - top[1])\n",
    "        else:\n",
    "            pprint(xscripts)\n",
    "    return flags\n",
    "    "
   ]
  },
  {
   "cell_type": "markdown",
   "metadata": {},
   "source": [
    "- Function for parsing the date field. Dates are read as two digit day, two digit month and four digit years. All zeros in any category means that there was no date given, essentially we treat it as a blank. We will parse the date fields, determine which are blanks and add flags to those. "
   ]
  },
  {
   "cell_type": "code",
   "execution_count": 1,
   "metadata": {
    "collapsed": false
   },
   "outputs": [],
   "source": [
    "def date_parser(value):\n",
    "    if not value:\n",
    "        return '', 'blank'\n",
    "    parts = value.split('/')\n",
    "    values = [re.sub(r'[^\\d]','', p) for p in parts]\n",
    "    year = int(values[2])\n",
    "    month = int(values[0])\n",
    "    day = int(values[1])\n",
    "    flag= []\n",
    "    if year==0:\n",
    "        flag.append('blank_year')\n",
    "    if month==0:\n",
    "        flag.append('blank_month')\n",
    "    if day==0:\n",
    "        flag.append('blank_day')\n",
    "    if not flag:\n",
    "        flag.append('ok')\n",
    "    return '{:0>4}-{:0>2}-{:0>2}'.format(year, month, day), ' and '.join(flag)\n",
    " "
   ]
  },
  {
   "cell_type": "code",
   "execution_count": 35,
   "metadata": {
    "collapsed": false
   },
   "outputs": [
    {
     "name": "stdout",
     "output_type": "stream",
     "text": [
      "('', 'blank')\n",
      "('1922-03-08', 'ok')\n",
      "('0000-00-00', 'blank_year and blank_month and blank_day')\n",
      "('1852-00-11', 'blank_month')\n"
     ]
    }
   ],
   "source": [
    "pprint(date_parser(''))\n",
    "pprint(date_parser('3/8/1922'))\n",
    "pprint(date_parser('0/0/0000'))\n",
    "pprint(date_parser('0/11/1852'))"
   ]
  },
  {
   "cell_type": "markdown",
   "metadata": {},
   "source": [
    "- function to count the flags and print results"
   ]
  },
  {
   "cell_type": "code",
   "execution_count": 46,
   "metadata": {
    "collapsed": false
   },
   "outputs": [],
   "source": [
    "def count_result(flags):\n",
    "    counts = Counter([f['flag'] for k, f in flags.items()])\n",
    "    total = 0\n",
    "    for f, c in counts.items():\n",
    "        total += c\n",
    "        print('{} = {}'.format(f, c))\n",
    "    print('Total = {}'.format(total))"
   ]
  },
  {
   "cell_type": "code",
   "execution_count": 96,
   "metadata": {
    "collapsed": false
   },
   "outputs": [],
   "source": [
    "out_dict = {k: {'subject_id': k} for k in data.keys() }"
   ]
  },
  {
   "cell_type": "code",
   "execution_count": 97,
   "metadata": {
    "collapsed": false
   },
   "outputs": [],
   "source": [
    "def add_reconciled_data(field_name, flags):\n",
    "    for k, f in flags.items():\n",
    "        out_dict[k][field_name] = f['value']\n",
    "        out_dict[k][field_name +'_flags'] = f['flag']\n",
    "        out_dict[k][field_name +'_frequency'] = f['top_count']\n",
    "        out_dict[k][field_name +'_blanks'] = f['blank_count']\n",
    "        if 'secondflag' in f:\n",
    "            out_dict[k][field_name + '_secondflag'] = f['secondflag']\n",
    "        ##add one more column to print out but will need an if guard -- second date flag"
   ]
  },
  {
   "cell_type": "code",
   "execution_count": 98,
   "metadata": {
    "collapsed": false
   },
   "outputs": [
    {
     "name": "stdout",
     "output_type": "stream",
     "text": [
      "more than 1 unique answer = 1\n",
      "only a single transcript = 1104\n",
      "Majority Rules = 2\n",
      "all are blank = 74\n",
      "all agree = 1969\n",
      "Total = 3150\n",
      "more than 1 unique answer = 21\n",
      "only a single transcript = 1094\n",
      "Majority Rules = 20\n",
      "all are blank = 92\n",
      "all agree = 1923\n",
      "Total = 3150\n",
      "more than 1 unique answer = 9\n",
      "only a single transcript = 1105\n",
      "Majority Rules = 19\n",
      "all are blank = 78\n",
      "all agree = 1939\n",
      "Total = 3150\n",
      "all are blank = 88\n",
      "only a single transcript = 1095\n",
      "Majority Rules = 66\n",
      "boy howdie im messed up! = 36\n",
      "all agree = 1865\n",
      "Total = 3150\n"
     ]
    }
   ],
   "source": [
    "flags = drop_down_reconciliation('Country')\n",
    "add_reconciled_data('Country', flags)\n",
    "count_result(flags)\n",
    "\n",
    "flags = drop_down_reconciliation('County')\n",
    "add_reconciled_data('County', flags)\n",
    "count_result(flags)\n",
    "\n",
    "flags = drop_down_reconciliation('State')\n",
    "add_reconciled_data('State', flags)\n",
    "count_result(flags)\n",
    "\n",
    "flags = drop_down_reconciliation('Collection date')\n",
    "for subid, flg in flags.items():\n",
    "    #pprint(flg['value'])\n",
    "    if isinstance(flg['value'], list):\n",
    "        dates = []\n",
    "        for v in flg['value']:\n",
    "            d, _ = date_parser(v)\n",
    "            dates.append(d)\n",
    "        flg['value'] = dates\n",
    "        flg['flag'] = 'boy howdie im messed up!' \n",
    "        flg['secondflag'] = ''\n",
    "    else:\n",
    "        value, secondflag = date_parser(flg['value'])\n",
    "        flg['value']= value\n",
    "        flg['secondflag'] = secondflag\n",
    "add_reconciled_data('Collection date', flags)\n",
    "count_result(flags)"
   ]
  },
  {
   "cell_type": "code",
   "execution_count": 101,
   "metadata": {
    "collapsed": true
   },
   "outputs": [],
   "source": [
    "def write_reconciled_csv(out_dict, file_name):\n",
    "    headers = sorted(list(list(out_dict.values())[0].keys()))\n",
    "    sid = headers.pop()\n",
    "    headers.insert(0,sid)\n",
    "    with open(file_name, 'w') as out_file:\n",
    "        writer = csv.DictWriter(out_file,headers)\n",
    "        writer.writeheader()\n",
    "        for subject_id, row in out_dict.items():\n",
    "            row['subject_id'] = subject_id\n",
    "            writer.writerow(row)\n",
    "    pprint(headers)\n",
    "        "
   ]
  },
  {
   "cell_type": "code",
   "execution_count": 102,
   "metadata": {
    "collapsed": false
   },
   "outputs": [
    {
     "name": "stdout",
     "output_type": "stream",
     "text": [
      "['subject_id',\n",
      " 'Collection date',\n",
      " 'Collection date_blanks',\n",
      " 'Collection date_flags',\n",
      " 'Collection date_frequency',\n",
      " 'Collection date_secondflag',\n",
      " 'Country',\n",
      " 'Country_blanks',\n",
      " 'Country_flags',\n",
      " 'Country_frequency',\n",
      " 'County',\n",
      " 'County_blanks',\n",
      " 'County_flags',\n",
      " 'County_frequency',\n",
      " 'State',\n",
      " 'State_blanks',\n",
      " 'State_flags',\n",
      " 'State_frequency']\n"
     ]
    }
   ],
   "source": [
    "write_reconciled_csv(out_dict, 'Brit_Reconciled.csv')"
   ]
  },
  {
   "cell_type": "code",
   "execution_count": null,
   "metadata": {
    "collapsed": true
   },
   "outputs": [],
   "source": []
  }
 ],
 "metadata": {
  "kernelspec": {
   "display_name": "Python 3",
   "language": "python",
   "name": "python3"
  },
  "language_info": {
   "codemirror_mode": {
    "name": "ipython",
    "version": 3
   },
   "file_extension": ".py",
   "mimetype": "text/x-python",
   "name": "python",
   "nbconvert_exporter": "python",
   "pygments_lexer": "ipython3",
   "version": "3.5.2"
  }
 },
 "nbformat": 4,
 "nbformat_minor": 0
}
