{
 "cells": [
  {
   "cell_type": "markdown",
   "metadata": {},
   "source": [
    "Takes the expanded csv file from the JSON output and prepares it for the providers. \n",
    "Main ideas are:\n",
    "    1. remove user name information only keep the extended_user_id column will have a user ID number \n",
    "    2. Sort the entire set by classification ID\n",
    "    3. Keep the URL for the providers\n",
    "    4. Keep skips in \n",
    "    5. Labels are set in a few ways:\n",
    "        * Pull Down Menu example:\n",
    "        T1_select_label_1 - Country - new header\n",
    "        T1_option_1 - T/F -- will be true if pulled an answer from available options, for pull down menus False could mean blank or wrote in an answer other than those available. \n",
    "        T1_value_1 - numerical Value associated with selection\n",
    "        T1_label_1 - actual selection, keep this colum\n",
    "\n",
    " "
   ]
  },
  {
   "cell_type": "code",
   "execution_count": 21,
   "metadata": {
    "collapsed": true
   },
   "outputs": [],
   "source": [
    "%matplotlib inline\n",
    "import pandas as pd\n",
    "import csv\n",
    "import matplotlib.pyplot as plt\n",
    "from pprint import pprint\n",
    "import re"
   ]
  },
  {
   "cell_type": "code",
   "execution_count": 22,
   "metadata": {
    "collapsed": false
   },
   "outputs": [],
   "source": [
    "def read_json_expand_herb(file_name):\n",
    "#    data_dict = defaultdict(list)\n",
    "    with open(file_name, 'r') as in_file:\n",
    "        reader = csv.DictReader(in_file)\n",
    "        headers = reader.fieldnames\n",
    "        for row in reader:\n",
    "            newrow={}\n",
    "            new_row['Classification_Id']=row['classification_id']\n",
    "            new_row['User_Id']=row['extended_user_id']\n",
    "            new_row['URL']=row['URL']\n",
    "            new_row['Country']=row['T1_label_1']\n",
    "            new_row['State/Province']=row['T1_label_2']\n",
    "            new_row['County']=row['T1_label_3']\n",
    "            new_row['Scientific Name']=row['T2_value']\n",
    "            new_row['Location']=row['T3_value']\n",
    "            new_row['Habitat and Description']=row['T4_value']\n",
    "            new_row['Collected By']=row['T6_value']\n",
    "            new_row['Collector Number']=row['T7_value']\n",
    "            new_row['Month']=row['T8_value_1']\n",
    "            new_row['Day']=row['T9_value_1']\n",
    "            new_row['Year']=row['T10_value_1']\n",
    "            writer.write(newrow)\n",
    "    return (writer,headers)"
   ]
  },
  {
   "cell_type": "code",
   "execution_count": 23,
   "metadata": {
    "collapsed": false
   },
   "outputs": [
    {
     "ename": "NameError",
     "evalue": "name 'new_row' is not defined",
     "output_type": "error",
     "traceback": [
      "\u001b[0;31m---------------------------------------------------------------------------\u001b[0m",
      "\u001b[0;31mNameError\u001b[0m                                 Traceback (most recent call last)",
      "\u001b[0;32m<ipython-input-23-e519d58d8bbd>\u001b[0m in \u001b[0;36m<module>\u001b[0;34m()\u001b[0m\n\u001b[0;32m----> 1\u001b[0;31m \u001b[0mwriter\u001b[0m\u001b[0;34m,\u001b[0m\u001b[0mheaders\u001b[0m \u001b[0;34m=\u001b[0m \u001b[0mread_json_expand_herb\u001b[0m\u001b[0;34m(\u001b[0m\u001b[0;34m'expandedNfN_1931.csv'\u001b[0m\u001b[0;34m)\u001b[0m\u001b[0;34m\u001b[0m\u001b[0m\n\u001b[0m\u001b[1;32m      2\u001b[0m \u001b[0mpprint\u001b[0m\u001b[0;34m(\u001b[0m\u001b[0mheaders\u001b[0m\u001b[0;34m)\u001b[0m\u001b[0;34m\u001b[0m\u001b[0m\n",
      "\u001b[0;32m<ipython-input-22-fcff566056a5>\u001b[0m in \u001b[0;36mread_json_expand_herb\u001b[0;34m(file_name)\u001b[0m\n\u001b[1;32m      6\u001b[0m         \u001b[0;32mfor\u001b[0m \u001b[0mrow\u001b[0m \u001b[0;32min\u001b[0m \u001b[0mreader\u001b[0m\u001b[0;34m:\u001b[0m\u001b[0;34m\u001b[0m\u001b[0m\n\u001b[1;32m      7\u001b[0m             \u001b[0mnewrow\u001b[0m\u001b[0;34m=\u001b[0m\u001b[0;34m{\u001b[0m\u001b[0;34m}\u001b[0m\u001b[0;34m\u001b[0m\u001b[0m\n\u001b[0;32m----> 8\u001b[0;31m             \u001b[0mnew_row\u001b[0m\u001b[0;34m[\u001b[0m\u001b[0;34m'Classification_Id'\u001b[0m\u001b[0;34m]\u001b[0m\u001b[0;34m=\u001b[0m\u001b[0mrow\u001b[0m\u001b[0;34m[\u001b[0m\u001b[0;34m'classification_id'\u001b[0m\u001b[0;34m]\u001b[0m\u001b[0;34m\u001b[0m\u001b[0m\n\u001b[0m\u001b[1;32m      9\u001b[0m             \u001b[0mnew_row\u001b[0m\u001b[0;34m[\u001b[0m\u001b[0;34m'User_Id'\u001b[0m\u001b[0;34m]\u001b[0m\u001b[0;34m=\u001b[0m\u001b[0mrow\u001b[0m\u001b[0;34m[\u001b[0m\u001b[0;34m'extended_user_id'\u001b[0m\u001b[0;34m]\u001b[0m\u001b[0;34m\u001b[0m\u001b[0m\n\u001b[1;32m     10\u001b[0m             \u001b[0mnew_row\u001b[0m\u001b[0;34m[\u001b[0m\u001b[0;34m'URL'\u001b[0m\u001b[0;34m]\u001b[0m\u001b[0;34m=\u001b[0m\u001b[0mrow\u001b[0m\u001b[0;34m[\u001b[0m\u001b[0;34m'URL'\u001b[0m\u001b[0;34m]\u001b[0m\u001b[0;34m\u001b[0m\u001b[0m\n",
      "\u001b[0;31mNameError\u001b[0m: name 'new_row' is not defined"
     ]
    }
   ],
   "source": [
    "writer,headers = read_json_expand_herb('expandedNfN_1931.csv')\n",
    "pprint(headers)"
   ]
  },
  {
   "cell_type": "code",
   "execution_count": 24,
   "metadata": {
    "collapsed": true
   },
   "outputs": [],
   "source": [
    "def write_provider_csv(data_dict, file_name):\n",
    "#    headers = sorted(list(list(out_dict.values())[0].keys()))\n",
    "#    sid = headers.pop()\n",
    "#    headers.insert(0,sid)\n",
    "#    with open(file_name, 'w') as out_file:\n",
    "#        writer = csv.DictWriter(out_file,headers)\n",
    "#        writer.writeheader()\n",
    "#        for subject_id, row in out_dict.items():\n",
    "#            row['subject_id'] = subject_id\n",
    "            \n",
    "    pprint(headers)"
   ]
  },
  {
   "cell_type": "code",
   "execution_count": null,
   "metadata": {
    "collapsed": false
   },
   "outputs": [],
   "source": []
  },
  {
   "cell_type": "code",
   "execution_count": null,
   "metadata": {
    "collapsed": true
   },
   "outputs": [],
   "source": [
    "    "
   ]
  },
  {
   "cell_type": "code",
   "execution_count": null,
   "metadata": {
    "collapsed": true
   },
   "outputs": [],
   "source": []
  }
 ],
 "metadata": {
  "kernelspec": {
   "display_name": "Python 3",
   "language": "python",
   "name": "python3"
  },
  "language_info": {
   "codemirror_mode": {
    "name": "ipython",
    "version": 3
   },
   "file_extension": ".py",
   "mimetype": "text/x-python",
   "name": "python",
   "nbconvert_exporter": "python",
   "pygments_lexer": "ipython3",
   "version": "3.5.1"
  }
 },
 "nbformat": 4,
 "nbformat_minor": 0
}
