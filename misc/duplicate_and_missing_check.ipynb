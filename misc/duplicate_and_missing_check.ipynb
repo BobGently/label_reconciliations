{
 "cells": [
  {
   "cell_type": "code",
   "execution_count": 1,
   "metadata": {
    "collapsed": true
   },
   "outputs": [],
   "source": [
    "from os.path import join\n",
    "from itertools import combinations\n",
    "import pandas as pd"
   ]
  },
  {
   "cell_type": "markdown",
   "metadata": {},
   "source": [
    "## List the datasets"
   ]
  },
  {
   "cell_type": "code",
   "execution_count": 2,
   "metadata": {
    "collapsed": true
   },
   "outputs": [],
   "source": [
    "BASE_PATH = join('..', 'nfn1')\n",
    "\n",
    "datasets = {\n",
    "    'brit': 1,\n",
    "    'fsu': 1,\n",
    "    'herbarium': 1,\n",
    "    'selu': 1,\n",
    "    'usam': 1,\n",
    "    'usf': 1,\n",
    "    'vsc': 1}"
   ]
  },
  {
   "cell_type": "markdown",
   "metadata": {},
   "source": [
    "## Read in all of the small datasets"
   ]
  },
  {
   "cell_type": "code",
   "execution_count": 3,
   "metadata": {
    "collapsed": true
   },
   "outputs": [],
   "source": [
    "for dataset in datasets.keys():\n",
    "    path = join(BASE_PATH, dataset, '{}_reconciled.csv'.format(dataset))\n",
    "    datasets[dataset] = pd.read_csv(path)"
   ]
  },
  {
   "cell_type": "markdown",
   "metadata": {},
   "source": [
    "## Look for duplicates between datasets"
   ]
  },
  {
   "cell_type": "code",
   "execution_count": 4,
   "metadata": {},
   "outputs": [
    {
     "name": "stdout",
     "output_type": "stream",
     "text": [
      "0 ('brit', 'fsu')\n",
      "0 ('brit', 'herbarium')\n",
      "0 ('brit', 'selu')\n",
      "0 ('brit', 'usam')\n",
      "0 ('brit', 'usf')\n",
      "0 ('brit', 'vsc')\n",
      "0 ('fsu', 'herbarium')\n",
      "0 ('fsu', 'selu')\n",
      "0 ('fsu', 'usam')\n",
      "0 ('fsu', 'usf')\n",
      "0 ('fsu', 'vsc')\n",
      "0 ('herbarium', 'selu')\n",
      "0 ('herbarium', 'usam')\n",
      "0 ('herbarium', 'usf')\n",
      "0 ('herbarium', 'vsc')\n",
      "0 ('selu', 'usam')\n",
      "0 ('selu', 'usf')\n",
      "0 ('selu', 'vsc')\n",
      "0 ('usam', 'usf')\n",
      "0 ('usam', 'vsc')\n",
      "0 ('usf', 'vsc')\n"
     ]
    }
   ],
   "source": [
    "for combo in combinations(sorted(datasets.keys()), 2):\n",
    "    df = pd.concat([datasets[combo[0]], datasets[combo[1]]])\n",
    "    grouped = df.groupby('occurrenceID').size().loc[lambda x : x != 1]\n",
    "    print(len(grouped), combo)"
   ]
  },
  {
   "cell_type": "markdown",
   "metadata": {
    "collapsed": true
   },
   "source": [
    "## Read in original combined data treated as one dataset"
   ]
  },
  {
   "cell_type": "code",
   "execution_count": 5,
   "metadata": {},
   "outputs": [],
   "source": [
    "for dataset in ['all']:\n",
    "    path = join(BASE_PATH, dataset, '{}_reconciled.csv'.format(dataset))\n",
    "    datasets[dataset] = pd.read_csv(path)"
   ]
  },
  {
   "cell_type": "markdown",
   "metadata": {},
   "source": [
    "## Look for missing occurrenceIDs"
   ]
  },
  {
   "cell_type": "code",
   "execution_count": 6,
   "metadata": {
    "collapsed": true
   },
   "outputs": [],
   "source": [
    "df = pd.concat([v for v in datasets.values()])"
   ]
  },
  {
   "cell_type": "code",
   "execution_count": 7,
   "metadata": {},
   "outputs": [
    {
     "name": "stdout",
     "output_type": "stream",
     "text": [
      "0\n"
     ]
    },
    {
     "data": {
      "text/plain": [
       "array([], dtype=object)"
      ]
     },
     "execution_count": 7,
     "metadata": {},
     "output_type": "execute_result"
    }
   ],
   "source": [
    "grouped = df.groupby('occurrenceID').size().loc[lambda x : x != 2].index.values\n",
    "# missing = df.loc[df.groupby('occurrenceID').size().values != 2]\n",
    "print(len(grouped))\n",
    "grouped"
   ]
  },
  {
   "cell_type": "code",
   "execution_count": 8,
   "metadata": {},
   "outputs": [
    {
     "data": {
      "text/html": [
       "<div>\n",
       "<style>\n",
       "    .dataframe thead tr:only-child th {\n",
       "        text-align: right;\n",
       "    }\n",
       "\n",
       "    .dataframe thead th {\n",
       "        text-align: left;\n",
       "    }\n",
       "\n",
       "    .dataframe tbody tr th {\n",
       "        vertical-align: top;\n",
       "    }\n",
       "</style>\n",
       "<table border=\"1\" class=\"dataframe\">\n",
       "  <thead>\n",
       "    <tr style=\"text-align: right;\">\n",
       "      <th></th>\n",
       "      <th>occurrenceID</th>\n",
       "      <th>filename</th>\n",
       "    </tr>\n",
       "  </thead>\n",
       "  <tbody>\n",
       "  </tbody>\n",
       "</table>\n",
       "</div>"
      ],
      "text/plain": [
       "Empty DataFrame\n",
       "Columns: [occurrenceID, filename]\n",
       "Index: []"
      ]
     },
     "execution_count": 8,
     "metadata": {},
     "output_type": "execute_result"
    }
   ],
   "source": [
    "missing = df.loc[df.occurrenceID.isin(grouped)]\n",
    "missing[['occurrenceID', 'filename']].head()"
   ]
  },
  {
   "cell_type": "code",
   "execution_count": 9,
   "metadata": {
    "collapsed": true
   },
   "outputs": [],
   "source": [
    "path = join(BASE_PATH, 'missing.csv')\n",
    "missing.to_csv(path)"
   ]
  },
  {
   "cell_type": "code",
   "execution_count": null,
   "metadata": {
    "collapsed": true
   },
   "outputs": [],
   "source": []
  }
 ],
 "metadata": {
  "kernelspec": {
   "display_name": "Python 3",
   "language": "python",
   "name": "python3"
  },
  "language_info": {
   "codemirror_mode": {
    "name": "ipython",
    "version": 3
   },
   "file_extension": ".py",
   "mimetype": "text/x-python",
   "name": "python",
   "nbconvert_exporter": "python",
   "pygments_lexer": "ipython3",
   "version": "3.6.1"
  }
 },
 "nbformat": 4,
 "nbformat_minor": 2
}
